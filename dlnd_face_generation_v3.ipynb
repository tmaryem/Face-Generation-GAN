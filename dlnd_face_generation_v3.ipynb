{
 "cells": [
  {
   "cell_type": "markdown",
   "metadata": {},
   "source": [
    "# Face Generation\n",
    "\n",
    "In this project, you'll define and train a DCGAN on a dataset of faces. Your goal is to get a generator network to generate *new* images of faces that look as realistic as possible!\n",
    "\n",
    "The project will be broken down into a series of tasks from **loading in data to defining and training adversarial networks**. At the end of the notebook, you'll be able to visualize the results of your trained Generator to see how it performs; your generated samples should look like fairly realistic faces with small amounts of noise.\n",
    "\n",
    "### Get the Data\n",
    "\n",
    "You'll be using the [CelebFaces Attributes Dataset (CelebA)](http://mmlab.ie.cuhk.edu.hk/projects/CelebA.html) to train your adversarial networks.\n",
    "\n",
    "This dataset is more complex than the number datasets (like MNIST or SVHN) you've been working with, and so, you should prepare to define deeper networks and train them for a longer time to get good results. It is suggested that you utilize a GPU for training.\n",
    "\n",
    "### Pre-processed Data\n",
    "\n",
    "Since the project's main focus is on building the GANs, we've done *some* of the pre-processing for you. Each of the CelebA images has been cropped to remove parts of the image that don't include a face, then resized down to 64x64x3 NumPy images. Some sample data is show below.\n",
    "\n",
    "<img src='assets/processed_face_data.png' width=60% />\n",
    "\n",
    "> If you are working locally, you can download this data [by clicking here](https://s3.amazonaws.com/video.udacity-data.com/topher/2018/November/5be7eb6f_processed-celeba-small/processed-celeba-small.zip)\n",
    "\n",
    "This is a zip file that you'll need to extract in the home directory of this notebook for further loading and processing. After extracting the data, you should be left with a directory of data `processed_celeba_small/`"
   ]
  },
  {
   "cell_type": "code",
   "execution_count": 38,
   "metadata": {},
   "outputs": [],
   "source": [
    "# can comment out after executing\n",
    "#!unzip processed_celeba_small_v1.zip"
   ]
  },
  {
   "cell_type": "code",
   "execution_count": 39,
   "metadata": {},
   "outputs": [],
   "source": [
    "#rm -r processed_celeba_small __MACOSX"
   ]
  },
  {
   "cell_type": "code",
   "execution_count": 40,
   "metadata": {},
   "outputs": [],
   "source": [
    "#!ls \n"
   ]
  },
  {
   "cell_type": "code",
   "execution_count": 41,
   "metadata": {},
   "outputs": [],
   "source": [
    "data_dir = 'processed_celeba_small/'\n",
    "\n",
    "\"\"\"\n",
    "DON'T MODIFY ANYTHING IN THIS CELL\n",
    "\"\"\"\n",
    "import pickle as pkl\n",
    "import matplotlib.pyplot as plt\n",
    "import numpy as np\n",
    "import problem_unittests as tests\n",
    "#import helper\n",
    "\n",
    "%matplotlib inline"
   ]
  },
  {
   "cell_type": "markdown",
   "metadata": {},
   "source": [
    "## Visualize the CelebA Data\n",
    "\n",
    "The [CelebA](http://mmlab.ie.cuhk.edu.hk/projects/CelebA.html) dataset contains over 200,000 celebrity images with annotations. Since you're going to be generating faces, you won't need the annotations, you'll only need the images. Note that these are color images with [3 color channels (RGB)](https://en.wikipedia.org/wiki/Channel_(digital_image)#RGB_Images) each.\n",
    "\n",
    "### Pre-process and Load the Data\n",
    "\n",
    "Since the project's main focus is on building the GANs, we've done *some* of the pre-processing for you. Each of the CelebA images has been cropped to remove parts of the image that don't include a face, then resized down to 64x64x3 NumPy images. This *pre-processed* dataset is a smaller subset of the very large CelebA data.\n",
    "\n",
    "> There are a few other steps that you'll need to **transform** this data and create a **DataLoader**.\n",
    "\n",
    "#### Exercise: Complete the following `get_dataloader` function, such that it satisfies these requirements:\n",
    "\n",
    "* Your images should be square, Tensor images of size `image_size x image_size` in the x and y dimension.\n",
    "* Your function should return a DataLoader that shuffles and batches these Tensor images.\n",
    "\n",
    "#### ImageFolder\n",
    "\n",
    "To create a dataset given a directory of images, it's recommended that you use PyTorch's [ImageFolder](https://pytorch.org/docs/0.4.0/torchvision/datasets.html#imagefolder) wrapper, with a root directory `processed_celeba_small/` and data transformation passed in."
   ]
  },
  {
   "cell_type": "code",
   "execution_count": 42,
   "metadata": {},
   "outputs": [],
   "source": [
    "# necessary imports\n",
    "import torch\n",
    "from torchvision import datasets\n",
    "from torchvision import transforms"
   ]
  },
  {
   "cell_type": "code",
   "execution_count": 43,
   "metadata": {},
   "outputs": [],
   "source": [
    "def get_dataloader(batch_size, image_size, data_dir='processed_celeba_small/'):\n",
    "    \"\"\"\n",
    "    Batch the neural network data using DataLoader\n",
    "    :param batch_size: The size of each batch; the number of images in a batch\n",
    "    :param img_size: The square size of the image data (x, y)\n",
    "    :param data_dir: Directory where image data is located\n",
    "    :return: DataLoader with batched data\n",
    "    \"\"\"\n",
    "    \n",
    "    # TODO: Implement function and return a dataloader\n",
    "    means = (0.5, 0.5, 0.5)\n",
    "    std = (0.5, 0.5, 0.5)\n",
    "    # resize and normalize the images\n",
    "    transform = transforms.Compose([\n",
    "                               transforms.Resize(image_size),\n",
    "                               transforms.CenterCrop(image_size),\n",
    "                               transforms.ToTensor(),\n",
    "                               transforms.Normalize(means, std),\n",
    "                           ])\n",
    "\n",
    "    # get the training datasets\n",
    "    celeb_data = datasets.ImageFolder(data_dir, transform)\n",
    "\n",
    "    num_workers = 0\n",
    "    # prepare data loader\n",
    "    celeb_loader = torch.utils.data.DataLoader(celeb_data, batch_size=batch_size, shuffle=True, num_workers=num_workers)\n",
    "    \n",
    "    return celeb_loader"
   ]
  },
  {
   "cell_type": "markdown",
   "metadata": {},
   "source": [
    "## Create a DataLoader\n",
    "\n",
    "#### Exercise: Create a DataLoader `celeba_train_loader` with appropriate hyperparameters.\n",
    "\n",
    "Call the above function and create a dataloader to view images. \n",
    "* You can decide on any reasonable `batch_size` parameter\n",
    "* Your `image_size` **must be** `32`. Resizing the data to a smaller size will make for faster training, while still creating convincing images of faces!"
   ]
  },
  {
   "cell_type": "code",
   "execution_count": 44,
   "metadata": {},
   "outputs": [],
   "source": [
    "## Define function hyperparameters\n",
    "batch_size = 32\n",
    "img_size = 32\n",
    "\n",
    "\"\"\"\n",
    "DON'T MODIFY ANYTHING IN THIS CELL THAT IS BELOW THIS LINE\n",
    "\"\"\"\n",
    "# Call your function and get a dataloader\n",
    "celeba_train_loader = get_dataloader(batch_size, img_size)\n"
   ]
  },
  {
   "cell_type": "markdown",
   "metadata": {},
   "source": [
    "Next, you can view some images! You should seen square images of somewhat-centered faces.\n",
    "\n",
    "Note: You'll need to convert the Tensor images into a NumPy type and transpose the dimensions to correctly display an image, suggested `imshow` code is below, but it may not be perfect."
   ]
  },
  {
   "cell_type": "code",
   "execution_count": 45,
   "metadata": {},
   "outputs": [
    {
     "data": {
      "image/png": "[encoded data removed]",
      "text/plain": [
       "<matplotlib.figure.Figure at 0x7f98d9789470>"
      ]
     },
     "metadata": {},
     "output_type": "display_data"
    }
   ],
   "source": [
    "# helper display function\n",
    "def imshow(img):\n",
    "    #npimg = img.numpy()\n",
    "    npimg = img * 0.5 + 0.5\n",
    "    plt.imshow(np.transpose(npimg, (1, 2, 0)))\n",
    "\n",
    "\"\"\"\n",
    "DON'T MODIFY ANYTHING IN THIS CELL THAT IS BELOW THIS LINE\n",
    "\"\"\"\n",
    "# obtain one batch of training images\n",
    "dataiter = iter(celeba_train_loader)\n",
    "images, _ = dataiter.next() # _ for no labels\n",
    "\n",
    "# plot the images in the batch, along with the corresponding labels\n",
    "fig = plt.figure(figsize=(20, 4))\n",
    "plot_size=20\n",
    "for idx in np.arange(plot_size):\n",
    "    ax = fig.add_subplot(2, plot_size/2, idx+1, xticks=[], yticks=[])\n",
    "    imshow(images[idx])"
   ]
  },
  {
   "cell_type": "markdown",
   "metadata": {},
   "source": [
    "#### Exercise: Pre-process your image data and scale it to a pixel range of -1 to 1\n",
    "\n",
    "You need to do a bit of pre-processing; you know that the output of a `tanh` activated generator will contain pixel values in a range from -1 to 1, and so, we need to rescale our training images to a range of -1 to 1. (Right now, they are in a range from 0-1.)"
   ]
  },
  {
   "cell_type": "code",
   "execution_count": 46,
   "metadata": {},
   "outputs": [],
   "source": [
    "# TODO: Complete the scale function\n",
    "def scale(x, feature_range=(-1, 1)):\n",
    "    ''' Scale takes in an image x and returns that image, scaled\n",
    "       with a feature_range of pixel values from -1 to 1. \n",
    "       This function assumes that the input x is already scaled from 0-1.'''\n",
    "    # assume x is scaled to (0, 1)\n",
    "    # scale to feature_range and return scaled x\n",
    "    \n",
    "    return (x * (feature_range[1] - feature_range[0]) + feature_range[0])\n",
    "    \n",
    "    \n",
    "     \n"
   ]
  },
  {
   "cell_type": "code",
   "execution_count": 47,
   "metadata": {},
   "outputs": [
    {
     "name": "stdout",
     "output_type": "stream",
     "text": [
      "Min:  tensor(-3.)\n",
      "Max:  tensor(0.1843)\n",
      "Min:  tensor(-1.)\n",
      "Max:  tensor(0.5922)\n"
     ]
    }
   ],
   "source": [
    "\"\"\"\n",
    "DON'T MODIFY ANYTHING IN THIS CELL THAT IS BELOW THIS LINE\n",
    "\"\"\"\n",
    "# check scaled range\n",
    "# should be close to -1 to 1\n",
    "img1 = images[0]\n",
    "scaled_img = scale(img1)\n",
    "\n",
    "print('Min: ', scaled_img.min())\n",
    "print('Max: ', scaled_img.max())\n",
    "print('Min: ', img1.min())\n",
    "print('Max: ', img1.max())"
   ]
  },
  {
   "cell_type": "code",
   "execution_count": 48,
   "metadata": {},
   "outputs": [
    {
     "name": "stdout",
     "output_type": "stream",
     "text": [
      "tensor([[[-0.2000, -0.1686, -0.1765,  ..., -0.1451, -0.1529, -0.1843],\n",
      "         [-0.1686, -0.1608, -0.2706,  ..., -0.1216, -0.1529, -0.1686],\n",
      "         [-0.1059, -0.1451, -0.3725,  ..., -0.1294, -0.1765, -0.1608],\n",
      "         ...,\n",
      "         [-0.0353, -0.1216, -0.2784,  ..., -0.1137, -0.0196, -0.0039],\n",
      "         [-0.0353, -0.1451, -0.2863,  ..., -0.1216, -0.0118,  0.0039],\n",
      "         [-0.0667, -0.2157, -0.3098,  ..., -0.1294, -0.0118,  0.0196]],\n",
      "\n",
      "        [[-0.9294, -0.9294, -0.9294,  ..., -0.9373, -0.9373, -0.9294],\n",
      "         [-0.9294, -0.9216, -0.8824,  ..., -0.9529, -0.9451, -0.9373],\n",
      "         [-0.9451, -0.9373, -0.8745,  ..., -0.9529, -0.9294, -0.9373],\n",
      "         ...,\n",
      "         [-0.9294, -0.9373, -0.9294,  ..., -0.9451, -0.9373, -0.9137],\n",
      "         [-0.9373, -0.9373, -0.9373,  ..., -0.9608, -0.9451, -0.9216],\n",
      "         [-0.9608, -0.9373, -0.9608,  ..., -0.9843, -0.9686, -0.9294]],\n",
      "\n",
      "        [[-0.9451, -0.9686, -0.9451,  ..., -0.9765, -0.9843, -0.9608],\n",
      "         [-0.9843, -0.9765, -0.9137,  ..., -0.9608, -0.9686, -0.9451],\n",
      "         [-1.0000, -0.9686, -0.8902,  ..., -0.9529, -0.9608, -0.9373],\n",
      "         ...,\n",
      "         [-0.9529, -0.9529, -0.9451,  ..., -0.9529, -0.9608, -0.9843],\n",
      "         [-0.9529, -0.9608, -0.9451,  ..., -0.9451, -0.9451, -0.9686],\n",
      "         [-0.9608, -0.9686, -0.9529,  ..., -0.9451, -0.9373, -0.9529]]])\n"
     ]
    }
   ],
   "source": [
    "print(images[0])"
   ]
  },
  {
   "cell_type": "markdown",
   "metadata": {},
   "source": [
    "---\n",
    "# Define the Model\n",
    "\n",
    "A GAN is comprised of two adversarial networks, a discriminator and a generator.\n",
    "\n",
    "## Discriminator\n",
    "\n",
    "Your first task will be to define the discriminator. This is a convolutional classifier like you've built before, only without any maxpooling layers. To deal with this complex data, it's suggested you use a deep network with **normalization**. You are also allowed to create any helper functions that may be useful.\n",
    "\n",
    "#### Exercise: Complete the Discriminator class\n",
    "* The inputs to the discriminator are 32x32x3 tensor images\n",
    "* The output should be a single value that will indicate whether a given image is real or fake\n"
   ]
  },
  {
   "cell_type": "code",
   "execution_count": 49,
   "metadata": {},
   "outputs": [],
   "source": [
    "import torch.nn as nn\n",
    "import torch.nn.functional as F\n",
    "\n",
    "# helper conv function\n",
    "def conv(in_channels, out_channels, kernel_size, stride=2, padding=1, batch_norm=True):\n",
    "    \"\"\"Creates a convolutional layer, with optional batch normalization.\n",
    "    \"\"\"\n",
    "    layers = []\n",
    "    conv_layer = nn.Conv2d(in_channels, out_channels, kernel_size, stride, padding, bias=False)\n",
    "    layers.append(conv_layer)\n",
    "\n",
    "    if batch_norm:\n",
    "        layers.append(nn.BatchNorm2d(out_channels))\n",
    "     \n",
    "    # using Sequential container\n",
    "    return nn.Sequential(*layers)"
   ]
  },
  {
   "cell_type": "code",
   "execution_count": 50,
   "metadata": {},
   "outputs": [
    {
     "name": "stdout",
     "output_type": "stream",
     "text": [
      "Tests Passed\n"
     ]
    }
   ],
   "source": [
    "class Discriminator(nn.Module):\n",
    "\n",
    "    def __init__(self, conv_dim):\n",
    "        \"\"\"\n",
    "        Initialize the Discriminator Module\n",
    "        :param conv_dim: The depth of the first convolutional layer\n",
    "        \"\"\"\n",
    "        super(Discriminator, self).__init__()\n",
    "\n",
    "        # complete init function\n",
    "        self.conv_dim = conv_dim\n",
    "\n",
    "        # 32x32 input\n",
    "        self.conv1 = conv(3, conv_dim, 4, batch_norm=False) # first layer, no batch_norm\n",
    "        # 16x16 out\n",
    "        self.conv2 = conv(conv_dim, conv_dim*2, 4)\n",
    "        # 8x8 out\n",
    "        self.conv3 = conv(conv_dim*2, conv_dim*4, 4)\n",
    "        # final, fully-connected layer\n",
    "        self.fc = nn.Linear(conv_dim*4*4*4, 1)\n",
    "        \n",
    "        # dropout layer \n",
    "        self.dropout = nn.Dropout(0.3)\n",
    "        \n",
    "\n",
    "    def forward(self, x):\n",
    "        \"\"\"\n",
    "        Forward propagation of the neural network\n",
    "        :param x: The input to the neural network     \n",
    "        :return: Discriminator logits; the output of the neural network\n",
    "        \"\"\"\n",
    "        # define feedforward behavior\n",
    "        out = F.leaky_relu(self.conv1(x), 0.2)\n",
    "        out = self.dropout(out)\n",
    "        out = F.leaky_relu(self.conv2(out), 0.2)\n",
    "        out = self.dropout(out)\n",
    "        out = F.leaky_relu(self.conv3(out), 0.2)\n",
    "        out = self.dropout(out)\n",
    "        \n",
    "        # flatten\n",
    "        out = out.view(-1, self.conv_dim*4*4*4)\n",
    "        out = self.fc(out)        \n",
    "        return out\n",
    "\n",
    "\n",
    "\"\"\"\n",
    "DON'T MODIFY ANYTHING IN THIS CELL THAT IS BELOW THIS LINE\n",
    "\"\"\"\n",
    "tests.test_discriminator(Discriminator)"
   ]
  },
  {
   "cell_type": "markdown",
   "metadata": {},
   "source": [
    "## Generator\n",
    "\n",
    "The generator should upsample an input and generate a *new* image of the same size as our training data `32x32x3`. This should be mostly transpose convolutional layers with normalization applied to the outputs.\n",
    "\n",
    "#### Exercise: Complete the Generator class\n",
    "* The inputs to the generator are vectors of some length `z_size`\n",
    "* The output should be a image of shape `32x32x3`"
   ]
  },
  {
   "cell_type": "code",
   "execution_count": 51,
   "metadata": {},
   "outputs": [],
   "source": [
    "# helper deconv function\n",
    "def deconv(in_channels, out_channels, kernel_size, stride=2, padding=1, batch_norm=True):\n",
    "    \"\"\"Creates a transposed-convolutional layer, with optional batch normalization.\n",
    "    \"\"\"\n",
    "    # create a sequence of transpose + optional batch norm layers\n",
    "    layers = []\n",
    "    transpose_conv_layer = nn.ConvTranspose2d(in_channels, out_channels, \n",
    "                                              kernel_size, stride, padding, bias=False)\n",
    "    # append transpose convolutional layer\n",
    "    layers.append(transpose_conv_layer)\n",
    "    \n",
    "    if batch_norm:\n",
    "        # append batchnorm layer\n",
    "        layers.append(nn.BatchNorm2d(out_channels))\n",
    "        \n",
    "    return nn.Sequential(*layers)"
   ]
  },
  {
   "cell_type": "code",
   "execution_count": 52,
   "metadata": {},
   "outputs": [
    {
     "name": "stdout",
     "output_type": "stream",
     "text": [
      "Tests Passed\n"
     ]
    }
   ],
   "source": [
    "class Generator(nn.Module):\n",
    "    \n",
    "    def __init__(self, z_size, conv_dim):\n",
    "        \"\"\"\n",
    "        Initialize the Generator Module\n",
    "        :param z_size: The length of the input latent vector, z\n",
    "        :param conv_dim: The depth of the inputs to the *last* transpose convolutional layer\n",
    "        \"\"\"\n",
    "        super(Generator, self).__init__()\n",
    "\n",
    "        # complete init function\n",
    "        self.conv_dim = conv_dim\n",
    "        \n",
    "        # first, fully-connected layer\n",
    "        self.fc = nn.Linear(z_size, conv_dim*16*1*1)\n",
    "\n",
    "        # transpose conv layers\n",
    "        self.t_conv1 = deconv(conv_dim*16, conv_dim*8, 4)\n",
    "        self.t_conv2 = deconv(conv_dim*8, conv_dim*4, 4)\n",
    "        self.t_conv3 = deconv(conv_dim*4, conv_dim*2, 4)\n",
    "        self.t_conv4 = deconv(conv_dim*2, conv_dim, 4)\n",
    "        self.t_conv5 = deconv(conv_dim, 3, 4, batch_norm=False)\n",
    "        \n",
    "\n",
    "    def forward(self, x):\n",
    "        \"\"\"\n",
    "        Forward propagation of the neural network\n",
    "        :param x: The input to the neural network     \n",
    "        :return: A 32x32x3 Tensor image as output\n",
    "        \"\"\"\n",
    "        # define feedforward behavior\n",
    "        out = self.fc(x)\n",
    "        out = out.view(-1, self.conv_dim*16, 1, 1) \n",
    "        \n",
    "        # hidden transpose conv layers + relu\n",
    "        out = F.relu(self.t_conv1(out))\n",
    "        out = F.relu(self.t_conv2(out))\n",
    "        out = F.relu(self.t_conv3(out))\n",
    "        out = F.relu(self.t_conv4(out))\n",
    "        \n",
    "        # last layer + tanh activation\n",
    "        out = self.t_conv5(out)\n",
    "        out = F.tanh(out)\n",
    "        \n",
    "        return out\n",
    "\n",
    "\"\"\"\n",
    "DON'T MODIFY ANYTHING IN THIS CELL THAT IS BELOW THIS LINE\n",
    "\"\"\"\n",
    "tests.test_generator(Generator)"
   ]
  },
  {
   "cell_type": "markdown",
   "metadata": {},
   "source": [
    "## Initialize the weights of your networks\n",
    "\n",
    "To help your models converge, you should initialize the weights of the convolutional and linear layers in your model. From reading the [original DCGAN paper](https://arxiv.org/pdf/1511.06434.pdf), they say:\n",
    "> All weights were initialized from a zero-centered Normal distribution with standard deviation 0.02.\n",
    "\n",
    "So, your next task will be to define a weight initialization function that does just this!\n",
    "\n",
    "You can refer back to the lesson on weight initialization or even consult existing model code, such as that from [the `networks.py` file in CycleGAN Github repository](https://github.com/junyanz/pytorch-CycleGAN-and-pix2pix/blob/master/models/networks.py) to help you complete this function.\n",
    "\n",
    "#### Exercise: Complete the weight initialization function\n",
    "\n",
    "* This should initialize only **convolutional** and **linear** layers\n",
    "* Initialize the weights to a normal distribution, centered around 0, with a standard deviation of 0.02.\n",
    "* The bias terms, if they exist, may be left alone or set to 0."
   ]
  },
  {
   "cell_type": "code",
   "execution_count": 53,
   "metadata": {},
   "outputs": [],
   "source": [
    "from torch.nn import init\n",
    "def weights_init_normal(m):\n",
    "    \"\"\"\n",
    "    Applies initial weights to certain layers in a model .\n",
    "    The weights are taken from a normal distribution \n",
    "    with mean = 0, std dev = 0.02.\n",
    "    :param m: A module or layer in a network    \n",
    "    \"\"\"\n",
    "    # classname will be something like:\n",
    "    # `Conv`, `BatchNorm2d`, `Linear`, etc.  \n",
    "    classname = m.__class__.__name__  \n",
    "    \n",
    "    \n",
    "    # TODO: Apply initial weights to convolutional and linear layers\n",
    "    \n",
    "    isConv = (classname.find('Conv') != -1)\n",
    "    isLinear = (classname.find('Linear') != -1)\n",
    "    init_gain = 0.02\n",
    "    if hasattr(m, 'weight') and (isConv or isLinear):\n",
    "        init.normal_(m.weight.data, 0.0, init_gain)          \n",
    "    "
   ]
  },
  {
   "cell_type": "markdown",
   "metadata": {
    "collapsed": true
   },
   "source": [
    "## Build complete network\n",
    "\n",
    "Define your models' hyperparameters and instantiate the discriminator and generator from the classes defined above. Make sure you've passed in the correct input arguments."
   ]
  },
  {
   "cell_type": "code",
   "execution_count": 54,
   "metadata": {},
   "outputs": [],
   "source": [
    "\"\"\"\n",
    "DON'T MODIFY ANYTHING IN THIS CELL THAT IS BELOW THIS LINE\n",
    "\"\"\"\n",
    "def build_network(d_conv_dim, g_conv_dim, z_size):\n",
    "    # define discriminator and generator\n",
    "    D = Discriminator(d_conv_dim)\n",
    "    G = Generator(z_size=z_size, conv_dim=g_conv_dim)\n",
    "\n",
    "    # initialize model weights\n",
    "    D.apply(weights_init_normal)\n",
    "    G.apply(weights_init_normal)\n",
    "\n",
    "    print(D)\n",
    "    print()\n",
    "    print(G)\n",
    "    \n",
    "    return D, G\n"
   ]
  },
  {
   "cell_type": "markdown",
   "metadata": {},
   "source": [
    "#### Exercise: Define model hyperparameters"
   ]
  },
  {
   "cell_type": "code",
   "execution_count": 55,
   "metadata": {},
   "outputs": [
    {
     "name": "stdout",
     "output_type": "stream",
     "text": [
      "Discriminator(\n",
      "  (conv1): Sequential(\n",
      "    (0): Conv2d(3, 32, kernel_size=(4, 4), stride=(2, 2), padding=(1, 1), bias=False)\n",
      "  )\n",
      "  (conv2): Sequential(\n",
      "    (0): Conv2d(32, 64, kernel_size=(4, 4), stride=(2, 2), padding=(1, 1), bias=False)\n",
      "    (1): BatchNorm2d(64, eps=1e-05, momentum=0.1, affine=True, track_running_stats=True)\n",
      "  )\n",
      "  (conv3): Sequential(\n",
      "    (0): Conv2d(64, 128, kernel_size=(4, 4), stride=(2, 2), padding=(1, 1), bias=False)\n",
      "    (1): BatchNorm2d(128, eps=1e-05, momentum=0.1, affine=True, track_running_stats=True)\n",
      "  )\n",
      "  (fc): Linear(in_features=2048, out_features=1, bias=True)\n",
      "  (dropout): Dropout(p=0.3)\n",
      ")\n",
      "\n",
      "Generator(\n",
      "  (fc): Linear(in_features=100, out_features=1024, bias=True)\n",
      "  (t_conv1): Sequential(\n",
      "    (0): ConvTranspose2d(1024, 512, kernel_size=(4, 4), stride=(2, 2), padding=(1, 1), bias=False)\n",
      "    (1): BatchNorm2d(512, eps=1e-05, momentum=0.1, affine=True, track_running_stats=True)\n",
      "  )\n",
      "  (t_conv2): Sequential(\n",
      "    (0): ConvTranspose2d(512, 256, kernel_size=(4, 4), stride=(2, 2), padding=(1, 1), bias=False)\n",
      "    (1): BatchNorm2d(256, eps=1e-05, momentum=0.1, affine=True, track_running_stats=True)\n",
      "  )\n",
      "  (t_conv3): Sequential(\n",
      "    (0): ConvTranspose2d(256, 128, kernel_size=(4, 4), stride=(2, 2), padding=(1, 1), bias=False)\n",
      "    (1): BatchNorm2d(128, eps=1e-05, momentum=0.1, affine=True, track_running_stats=True)\n",
      "  )\n",
      "  (t_conv4): Sequential(\n",
      "    (0): ConvTranspose2d(128, 64, kernel_size=(4, 4), stride=(2, 2), padding=(1, 1), bias=False)\n",
      "    (1): BatchNorm2d(64, eps=1e-05, momentum=0.1, affine=True, track_running_stats=True)\n",
      "  )\n",
      "  (t_conv5): Sequential(\n",
      "    (0): ConvTranspose2d(64, 3, kernel_size=(4, 4), stride=(2, 2), padding=(1, 1), bias=False)\n",
      "  )\n",
      ")\n"
     ]
    }
   ],
   "source": [
    "# Define model hyperparams\n",
    "d_conv_dim = 32\n",
    "g_conv_dim = 64\n",
    "z_size = 100\n",
    "\n",
    "\"\"\"\n",
    "DON'T MODIFY ANYTHING IN THIS CELL THAT IS BELOW THIS LINE\n",
    "\"\"\"\n",
    "D, G = build_network(d_conv_dim, g_conv_dim, z_size)"
   ]
  },
  {
   "cell_type": "markdown",
   "metadata": {},
   "source": [
    "### Training on GPU\n",
    "\n",
    "Check if you can train on GPU. Here, we'll set this as a boolean variable `train_on_gpu`. Later, you'll be responsible for making sure that \n",
    ">* Models,\n",
    "* Model inputs, and\n",
    "* Loss function arguments\n",
    "\n",
    "Are moved to GPU, where appropriate."
   ]
  },
  {
   "cell_type": "code",
   "execution_count": 56,
   "metadata": {},
   "outputs": [
    {
     "name": "stdout",
     "output_type": "stream",
     "text": [
      "Training on GPU!\n"
     ]
    }
   ],
   "source": [
    "\"\"\"\n",
    "DON'T MODIFY ANYTHING IN THIS CELL\n",
    "\"\"\"\n",
    "import torch\n",
    "\n",
    "# Check for a GPU\n",
    "train_on_gpu = torch.cuda.is_available()\n",
    "if not train_on_gpu:\n",
    "    print('No GPU found. Please use a GPU to train your neural network.')\n",
    "else:\n",
    "    print('Training on GPU!')"
   ]
  },
  {
   "cell_type": "markdown",
   "metadata": {},
   "source": [
    "---\n",
    "## Discriminator and Generator Losses\n",
    "\n",
    "Now we need to calculate the losses for both types of adversarial networks.\n",
    "\n",
    "### Discriminator Losses\n",
    "\n",
    "> * For the discriminator, the total loss is the sum of the losses for real and fake images, `d_loss = d_real_loss + d_fake_loss`. \n",
    "* Remember that we want the discriminator to output 1 for real images and 0 for fake images, so we need to set up the losses to reflect that.\n",
    "\n",
    "\n",
    "### Generator Loss\n",
    "\n",
    "The generator loss will look similar only with flipped labels. The generator's goal is to get the discriminator to *think* its generated images are *real*.\n",
    "\n",
    "#### Exercise: Complete real and fake loss functions\n",
    "\n",
    "**You may choose to use either cross entropy or a least squares error loss to complete the following `real_loss` and `fake_loss` functions.**"
   ]
  },
  {
   "cell_type": "code",
   "execution_count": 57,
   "metadata": {},
   "outputs": [],
   "source": [
    "def real_loss(D_out):\n",
    "    '''Calculates how close discriminator outputs are to being real.\n",
    "       param, D_out: discriminator logits\n",
    "       return: real loss'''\n",
    "    batch_size = D_out.size(0)\n",
    "    labels = torch.ones(batch_size) * 0.9\n",
    "    \n",
    "    if train_on_gpu:\n",
    "        labels = labels.cuda()\n",
    "        \n",
    "    criterion = nn.BCEWithLogitsLoss()\n",
    "    ##loss = criterion(D_out.squeeze(), labels)\n",
    "    loss = torch.mean((D_out-labels)**2)\n",
    "    return loss\n",
    "\n",
    "def fake_loss(D_out):\n",
    "    '''Calculates how close discriminator outputs are to being fake.\n",
    "       param, D_out: discriminator logits\n",
    "       return: fake loss'''\n",
    "    batch_size = D_out.size(0)\n",
    "    labels = torch.zeros(batch_size)\n",
    "    \n",
    "    if train_on_gpu:\n",
    "        labels = labels.cuda()\n",
    "        \n",
    "    criterion = nn.BCEWithLogitsLoss()\n",
    "    ## Loss = criterion(D_out.squeeze(), labels)\n",
    "    loss = torch.mean((D_out-labels)**2)\n",
    "    \n",
    "    return loss"
   ]
  },
  {
   "cell_type": "markdown",
   "metadata": {},
   "source": [
    "## Optimizers\n",
    "\n",
    "#### Exercise: Define optimizers for your Discriminator (D) and Generator (G)\n",
    "\n",
    "Define optimizers for your models with appropriate hyperparameters."
   ]
  },
  {
   "cell_type": "code",
   "execution_count": 58,
   "metadata": {},
   "outputs": [],
   "source": [
    "import torch.optim as optim\n",
    "\n",
    "lr = 0.001\n",
    "beta1= 0.5\n",
    "beta2= 0.999\n",
    "\n",
    "# Create optimizers for the discriminator D and generator G\n",
    "d_optimizer = optim.Adam(D.parameters(), lr, [beta1, beta2])\n",
    "g_optimizer = optim.Adam(D.parameters(), lr, [beta1, beta2])"
   ]
  },
  {
   "cell_type": "markdown",
   "metadata": {},
   "source": [
    "---\n",
    "## Training\n",
    "\n",
    "Training will involve alternating between training the discriminator and the generator. You'll use your functions `real_loss` and `fake_loss` to help you calculate the discriminator losses.\n",
    "\n",
    "* You should train the discriminator by alternating on real and fake images\n",
    "* Then the generator, which tries to trick the discriminator and should have an opposing loss function\n",
    "\n",
    "\n",
    "#### Saving Samples\n",
    "\n",
    "You've been given some code to print out some loss statistics and save some generated \"fake\" samples."
   ]
  },
  {
   "cell_type": "markdown",
   "metadata": {},
   "source": [
    "#### Exercise: Complete the training function\n",
    "\n",
    "Keep in mind that, if you've moved your models to GPU, you'll also have to move any model inputs to GPU."
   ]
  },
  {
   "cell_type": "code",
   "execution_count": 59,
   "metadata": {},
   "outputs": [],
   "source": [
    "def train(D, G, n_epochs, print_every=50):\n",
    "    '''Trains adversarial networks for some number of epochs\n",
    "       param, D: the discriminator network\n",
    "       param, G: the generator network\n",
    "       param, n_epochs: number of epochs to train for\n",
    "       param, print_every: when to print and record the models' losses\n",
    "       return: D and G losses'''\n",
    "    \n",
    "    # move models to GPU\n",
    "    if train_on_gpu:\n",
    "        D.cuda()\n",
    "        G.cuda()\n",
    "\n",
    "    # keep track of loss and generated, \"fake\" samples\n",
    "    samples = []\n",
    "    losses = []\n",
    "\n",
    "    # Get some fixed data for sampling. These are images that are held\n",
    "    # constant throughout training, and allow us to inspect the model's performance\n",
    "    sample_size=16\n",
    "    fixed_z = np.random.uniform(-1, 1, size=(sample_size, z_size))\n",
    "    fixed_z = torch.from_numpy(fixed_z).float()\n",
    "    # move z to GPU if available\n",
    "    if train_on_gpu:\n",
    "        fixed_z = fixed_z.cuda()\n",
    "\n",
    "    # epoch training loop\n",
    "    for epoch in range(n_epochs):\n",
    "\n",
    "        # batch training loop\n",
    "        for batch_i, (real_images, _) in enumerate(celeba_train_loader):\n",
    "\n",
    "            batch_size = real_images.size(0)\n",
    "            #real_images = scale(real_images)\n",
    "\n",
    "            # ===============================================\n",
    "            #         YOUR CODE HERE: TRAIN THE NETWORKS\n",
    "            # ===============================================\n",
    "            \n",
    "            # 1. Train the discriminator on real and fake images\n",
    "            \n",
    "            d_optimizer.zero_grad()\n",
    "            if train_on_gpu:\n",
    "                real_images = real_images.cuda()\n",
    "            \n",
    "            D_real = D(real_images)\n",
    "            d_real_loss = real_loss(D_real)            \n",
    "            \n",
    "            z = np.random.uniform(-1, 1, size=(batch_size, z_size))\n",
    "            z = torch.from_numpy(z).float()\n",
    "            if train_on_gpu:\n",
    "                z = z.cuda()                \n",
    "            fake_images = G(z) \n",
    "            \n",
    "            D_fake = D(fake_images)\n",
    "            d_fake_loss = fake_loss(D_fake)\n",
    "            \n",
    "            d_loss = d_real_loss + d_fake_loss\n",
    "            d_loss.backward()\n",
    "            d_optimizer.step()\n",
    "\n",
    "            # 2. Train the generator with an adversarial loss\n",
    "            g_optimizer.zero_grad()\n",
    "            z = np.random.uniform(-1, 1, size=(batch_size, z_size))\n",
    "            z = torch.from_numpy(z).float()\n",
    "            if train_on_gpu:\n",
    "                z = z.cuda()\n",
    "            fake_images = G(z)\n",
    "            \n",
    "            D_fake = D(fake_images)\n",
    "            g_loss = real_loss(D_fake) \n",
    "            \n",
    "            g_loss.backward()\n",
    "            g_optimizer.step()\n",
    "            \n",
    "            \n",
    "            # ===============================================\n",
    "            #              END OF YOUR CODE\n",
    "            # ===============================================\n",
    "\n",
    "            # Print some loss stats\n",
    "            if batch_i % print_every == 0:\n",
    "                # append discriminator loss and generator loss\n",
    "                losses.append((d_loss.item(), g_loss.item()))\n",
    "                # print discriminator and generator loss\n",
    "                print('Epoch [{:5d}/{:5d}] | d_loss: {:6.4f} | g_loss: {:6.4f}'.format(\n",
    "                        epoch+1, n_epochs, d_loss.item(), g_loss.item()))\n",
    "\n",
    "\n",
    "        ## AFTER EACH EPOCH##    \n",
    "        # this code assumes your generator is named G, feel free to change the name\n",
    "        # generate and save sample, fake images\n",
    "        G.eval() # for generating samples\n",
    "        samples_z = G(fixed_z)\n",
    "        samples.append(samples_z)\n",
    "        G.train() # back to training mode\n",
    "\n",
    "    # Save training generator samples\n",
    "    with open('train_samples.pkl', 'wb') as f:\n",
    "        pkl.dump(samples, f)\n",
    "    \n",
    "    # finally return losses\n",
    "    return losses"
   ]
  },
  {
   "cell_type": "markdown",
   "metadata": {},
   "source": [
    "Set your number of training epochs and train your GAN!"
   ]
  },
  {
   "cell_type": "code",
   "execution_count": 60,
   "metadata": {},
   "outputs": [
    {
     "name": "stdout",
     "output_type": "stream",
     "text": [
      "Epoch [    1/    5] | d_loss: 0.9628 | g_loss: 0.3463\n",
      "Epoch [    1/    5] | d_loss: 1.4331 | g_loss: 0.2907\n",
      "Epoch [    1/    5] | d_loss: 1.2914 | g_loss: 0.2193\n",
      "Epoch [    1/    5] | d_loss: 1.2048 | g_loss: 0.1945\n",
      "Epoch [    1/    5] | d_loss: 1.0849 | g_loss: 0.2058\n",
      "Epoch [    1/    5] | d_loss: 1.2269 | g_loss: 0.1850\n",
      "Epoch [    1/    5] | d_loss: 1.0562 | g_loss: 0.1994\n",
      "Epoch [    1/    5] | d_loss: 1.1018 | g_loss: 0.2036\n",
      "Epoch [    1/    5] | d_loss: 1.1372 | g_loss: 0.1341\n",
      "Epoch [    1/    5] | d_loss: 1.1012 | g_loss: 0.1656\n",
      "Epoch [    1/    5] | d_loss: 1.0423 | g_loss: 0.1971\n",
      "Epoch [    1/    5] | d_loss: 0.9995 | g_loss: 0.1890\n",
      "Epoch [    1/    5] | d_loss: 1.0731 | g_loss: 0.1414\n",
      "Epoch [    1/    5] | d_loss: 0.9529 | g_loss: 0.1263\n",
      "Epoch [    1/    5] | d_loss: 0.8379 | g_loss: 0.1894\n",
      "Epoch [    1/    5] | d_loss: 0.9300 | g_loss: 0.1875\n",
      "Epoch [    1/    5] | d_loss: 0.9942 | g_loss: 0.1323\n",
      "Epoch [    1/    5] | d_loss: 0.8700 | g_loss: 0.1061\n",
      "Epoch [    1/    5] | d_loss: 0.8978 | g_loss: 0.1443\n",
      "Epoch [    1/    5] | d_loss: 0.8464 | g_loss: 0.1024\n",
      "Epoch [    1/    5] | d_loss: 0.9487 | g_loss: 0.1403\n",
      "Epoch [    1/    5] | d_loss: 0.8071 | g_loss: 0.1372\n",
      "Epoch [    1/    5] | d_loss: 0.8196 | g_loss: 0.1608\n",
      "Epoch [    1/    5] | d_loss: 0.9068 | g_loss: 0.1973\n",
      "Epoch [    1/    5] | d_loss: 0.7265 | g_loss: 0.2066\n",
      "Epoch [    1/    5] | d_loss: 0.8937 | g_loss: 0.1314\n",
      "Epoch [    1/    5] | d_loss: 0.6788 | g_loss: 0.1101\n",
      "Epoch [    1/    5] | d_loss: 0.8180 | g_loss: 0.1161\n",
      "Epoch [    1/    5] | d_loss: 0.8260 | g_loss: 0.1242\n",
      "Epoch [    1/    5] | d_loss: 0.6643 | g_loss: 0.1091\n",
      "Epoch [    1/    5] | d_loss: 0.8708 | g_loss: 0.1101\n",
      "Epoch [    1/    5] | d_loss: 0.7080 | g_loss: 0.1069\n",
      "Epoch [    1/    5] | d_loss: 0.7985 | g_loss: 0.1766\n",
      "Epoch [    1/    5] | d_loss: 0.8242 | g_loss: 0.1424\n",
      "Epoch [    1/    5] | d_loss: 0.6038 | g_loss: 0.1513\n",
      "Epoch [    1/    5] | d_loss: 0.7293 | g_loss: 0.1326\n",
      "Epoch [    1/    5] | d_loss: 0.8434 | g_loss: 0.1292\n",
      "Epoch [    1/    5] | d_loss: 0.5875 | g_loss: 0.1196\n",
      "Epoch [    1/    5] | d_loss: 0.7549 | g_loss: 0.1468\n",
      "Epoch [    1/    5] | d_loss: 0.7184 | g_loss: 0.1249\n",
      "Epoch [    1/    5] | d_loss: 0.6884 | g_loss: 0.1625\n",
      "Epoch [    1/    5] | d_loss: 0.6287 | g_loss: 0.0803\n",
      "Epoch [    1/    5] | d_loss: 0.6494 | g_loss: 0.1434\n",
      "Epoch [    1/    5] | d_loss: 0.6967 | g_loss: 0.1420\n",
      "Epoch [    1/    5] | d_loss: 0.7369 | g_loss: 0.1073\n",
      "Epoch [    1/    5] | d_loss: 0.7853 | g_loss: 0.1097\n",
      "Epoch [    1/    5] | d_loss: 0.6687 | g_loss: 0.1339\n",
      "Epoch [    1/    5] | d_loss: 0.7314 | g_loss: 0.1322\n",
      "Epoch [    1/    5] | d_loss: 0.6831 | g_loss: 0.1502\n",
      "Epoch [    1/    5] | d_loss: 0.7377 | g_loss: 0.0667\n",
      "Epoch [    1/    5] | d_loss: 0.7153 | g_loss: 0.1135\n",
      "Epoch [    1/    5] | d_loss: 0.6746 | g_loss: 0.1093\n",
      "Epoch [    1/    5] | d_loss: 0.6836 | g_loss: 0.1341\n",
      "Epoch [    1/    5] | d_loss: 0.6338 | g_loss: 0.1375\n",
      "Epoch [    1/    5] | d_loss: 0.6972 | g_loss: 0.1713\n",
      "Epoch [    1/    5] | d_loss: 0.6220 | g_loss: 0.1119\n",
      "Epoch [    1/    5] | d_loss: 0.7640 | g_loss: 0.1171\n",
      "Epoch [    2/    5] | d_loss: 0.7284 | g_loss: 0.1112\n",
      "Epoch [    2/    5] | d_loss: 0.6768 | g_loss: 0.1231\n",
      "Epoch [    2/    5] | d_loss: 0.6405 | g_loss: 0.1081\n",
      "Epoch [    2/    5] | d_loss: 0.5975 | g_loss: 0.0950\n",
      "Epoch [    2/    5] | d_loss: 0.6586 | g_loss: 0.1440\n",
      "Epoch [    2/    5] | d_loss: 0.6479 | g_loss: 0.1146\n",
      "Epoch [    2/    5] | d_loss: 0.7022 | g_loss: 0.1508\n",
      "Epoch [    2/    5] | d_loss: 0.7242 | g_loss: 0.1168\n",
      "Epoch [    2/    5] | d_loss: 0.6695 | g_loss: 0.0895\n",
      "Epoch [    2/    5] | d_loss: 0.6345 | g_loss: 0.1740\n",
      "Epoch [    2/    5] | d_loss: 0.7343 | g_loss: 0.1187\n",
      "Epoch [    2/    5] | d_loss: 0.6878 | g_loss: 0.1641\n",
      "Epoch [    2/    5] | d_loss: 0.5288 | g_loss: 0.1041\n",
      "Epoch [    2/    5] | d_loss: 0.7295 | g_loss: 0.0965\n",
      "Epoch [    2/    5] | d_loss: 0.6429 | g_loss: 0.1617\n",
      "Epoch [    2/    5] | d_loss: 0.6832 | g_loss: 0.0875\n",
      "Epoch [    2/    5] | d_loss: 0.7071 | g_loss: 0.1020\n",
      "Epoch [    2/    5] | d_loss: 0.7309 | g_loss: 0.0993\n",
      "Epoch [    2/    5] | d_loss: 0.8079 | g_loss: 0.1273\n",
      "Epoch [    2/    5] | d_loss: 0.6316 | g_loss: 0.1400\n",
      "Epoch [    2/    5] | d_loss: 0.6074 | g_loss: 0.0881\n",
      "Epoch [    2/    5] | d_loss: 0.7169 | g_loss: 0.1474\n",
      "Epoch [    2/    5] | d_loss: 0.7017 | g_loss: 0.1134\n",
      "Epoch [    2/    5] | d_loss: 0.6938 | g_loss: 0.1227\n",
      "Epoch [    2/    5] | d_loss: 0.7047 | g_loss: 0.1729\n",
      "Epoch [    2/    5] | d_loss: 0.5793 | g_loss: 0.1592\n",
      "Epoch [    2/    5] | d_loss: 0.6751 | g_loss: 0.0883\n",
      "Epoch [    2/    5] | d_loss: 0.6778 | g_loss: 0.1556\n",
      "Epoch [    2/    5] | d_loss: 0.6210 | g_loss: 0.1289\n",
      "Epoch [    2/    5] | d_loss: 0.7233 | g_loss: 0.1138\n",
      "Epoch [    2/    5] | d_loss: 0.8587 | g_loss: 0.1467\n",
      "Epoch [    2/    5] | d_loss: 0.6467 | g_loss: 0.1681\n",
      "Epoch [    2/    5] | d_loss: 0.7487 | g_loss: 0.1261\n",
      "Epoch [    2/    5] | d_loss: 0.8382 | g_loss: 0.1151\n",
      "Epoch [    2/    5] | d_loss: 0.7123 | g_loss: 0.1313\n",
      "Epoch [    2/    5] | d_loss: 0.6598 | g_loss: 0.1103\n",
      "Epoch [    2/    5] | d_loss: 0.6868 | g_loss: 0.1434\n",
      "Epoch [    2/    5] | d_loss: 0.8163 | g_loss: 0.1154\n",
      "Epoch [    2/    5] | d_loss: 0.7534 | g_loss: 0.1778\n",
      "Epoch [    2/    5] | d_loss: 0.7527 | g_loss: 0.1092\n",
      "Epoch [    2/    5] | d_loss: 0.7089 | g_loss: 0.2092\n",
      "Epoch [    2/    5] | d_loss: 0.7064 | g_loss: 0.1245\n",
      "Epoch [    2/    5] | d_loss: 0.6941 | g_loss: 0.1631\n",
      "Epoch [    2/    5] | d_loss: 0.7283 | g_loss: 0.1417\n",
      "Epoch [    2/    5] | d_loss: 0.6360 | g_loss: 0.1856\n",
      "Epoch [    2/    5] | d_loss: 0.7297 | g_loss: 0.1194\n",
      "Epoch [    2/    5] | d_loss: 0.7067 | g_loss: 0.1801\n",
      "Epoch [    2/    5] | d_loss: 0.6989 | g_loss: 0.1619\n",
      "Epoch [    2/    5] | d_loss: 0.9018 | g_loss: 0.1102\n",
      "Epoch [    2/    5] | d_loss: 0.7020 | g_loss: 0.1710\n",
      "Epoch [    2/    5] | d_loss: 0.7299 | g_loss: 0.0609\n",
      "Epoch [    2/    5] | d_loss: 0.8108 | g_loss: 0.0914\n",
      "Epoch [    2/    5] | d_loss: 0.8591 | g_loss: 0.1271\n",
      "Epoch [    2/    5] | d_loss: 0.7162 | g_loss: 0.1891\n",
      "Epoch [    2/    5] | d_loss: 0.8260 | g_loss: 0.1266\n",
      "Epoch [    2/    5] | d_loss: 0.7412 | g_loss: 0.1906\n",
      "Epoch [    2/    5] | d_loss: 0.9318 | g_loss: 0.1864\n",
      "Epoch [    3/    5] | d_loss: 0.6640 | g_loss: 0.1717\n",
      "Epoch [    3/    5] | d_loss: 0.6905 | g_loss: 0.1061\n",
      "Epoch [    3/    5] | d_loss: 0.8313 | g_loss: 0.1314\n",
      "Epoch [    3/    5] | d_loss: 0.8694 | g_loss: 0.2417\n",
      "Epoch [    3/    5] | d_loss: 0.6982 | g_loss: 0.1238\n",
      "Epoch [    3/    5] | d_loss: 0.7080 | g_loss: 0.1700\n",
      "Epoch [    3/    5] | d_loss: 0.7109 | g_loss: 0.1358\n",
      "Epoch [    3/    5] | d_loss: 0.8622 | g_loss: 0.1729\n",
      "Epoch [    3/    5] | d_loss: 0.7496 | g_loss: 0.0829\n",
      "Epoch [    3/    5] | d_loss: 0.7658 | g_loss: 0.2344\n",
      "Epoch [    3/    5] | d_loss: 0.8342 | g_loss: 0.1743\n",
      "Epoch [    3/    5] | d_loss: 0.7509 | g_loss: 0.1823\n",
      "Epoch [    3/    5] | d_loss: 0.7666 | g_loss: 0.1649\n",
      "Epoch [    3/    5] | d_loss: 0.8401 | g_loss: 0.1091\n",
      "Epoch [    3/    5] | d_loss: 0.7173 | g_loss: 0.2464\n",
      "Epoch [    3/    5] | d_loss: 0.7615 | g_loss: 0.2591\n",
      "Epoch [    3/    5] | d_loss: 0.7431 | g_loss: 0.2516\n",
      "Epoch [    3/    5] | d_loss: 0.6331 | g_loss: 0.1206\n",
      "Epoch [    3/    5] | d_loss: 0.6370 | g_loss: 0.1721\n",
      "Epoch [    3/    5] | d_loss: 0.6978 | g_loss: 0.2444\n",
      "Epoch [    3/    5] | d_loss: 0.9356 | g_loss: 0.1539\n",
      "Epoch [    3/    5] | d_loss: 0.8071 | g_loss: 0.1644\n",
      "Epoch [    3/    5] | d_loss: 0.6739 | g_loss: 0.2389\n",
      "Epoch [    3/    5] | d_loss: 0.8740 | g_loss: 0.2516\n",
      "Epoch [    3/    5] | d_loss: 0.7714 | g_loss: 0.2101\n",
      "Epoch [    3/    5] | d_loss: 1.0703 | g_loss: 0.1786\n",
      "Epoch [    3/    5] | d_loss: 0.8822 | g_loss: 0.2035\n",
      "Epoch [    3/    5] | d_loss: 0.8348 | g_loss: 0.2355\n",
      "Epoch [    3/    5] | d_loss: 1.0245 | g_loss: 0.2052\n",
      "Epoch [    3/    5] | d_loss: 0.8896 | g_loss: 0.1483\n",
      "Epoch [    3/    5] | d_loss: 0.7761 | g_loss: 0.1594\n",
      "Epoch [    3/    5] | d_loss: 0.8522 | g_loss: 0.1838\n",
      "Epoch [    3/    5] | d_loss: 0.9488 | g_loss: 0.2017\n",
      "Epoch [    3/    5] | d_loss: 0.8975 | g_loss: 0.1764\n",
      "Epoch [    3/    5] | d_loss: 0.7363 | g_loss: 0.1946\n",
      "Epoch [    3/    5] | d_loss: 0.8683 | g_loss: 0.3033\n",
      "Epoch [    3/    5] | d_loss: 0.8163 | g_loss: 0.1786\n",
      "Epoch [    3/    5] | d_loss: 0.7340 | g_loss: 0.2840\n",
      "Epoch [    3/    5] | d_loss: 0.8298 | g_loss: 0.2426\n",
      "Epoch [    3/    5] | d_loss: 0.8753 | g_loss: 0.3115\n",
      "Epoch [    3/    5] | d_loss: 0.8068 | g_loss: 0.1784\n",
      "Epoch [    3/    5] | d_loss: 0.8052 | g_loss: 0.1446\n",
      "Epoch [    3/    5] | d_loss: 0.9869 | g_loss: 0.2719\n",
      "Epoch [    3/    5] | d_loss: 0.6024 | g_loss: 0.2760\n",
      "Epoch [    3/    5] | d_loss: 0.6944 | g_loss: 0.1447\n",
      "Epoch [    3/    5] | d_loss: 0.8721 | g_loss: 0.1507\n",
      "Epoch [    3/    5] | d_loss: 0.8940 | g_loss: 0.2159\n",
      "Epoch [    3/    5] | d_loss: 0.9490 | g_loss: 0.2755\n",
      "Epoch [    3/    5] | d_loss: 0.7693 | g_loss: 0.3333\n",
      "Epoch [    3/    5] | d_loss: 0.9035 | g_loss: 0.2317\n",
      "Epoch [    3/    5] | d_loss: 0.8970 | g_loss: 0.2684\n",
      "Epoch [    3/    5] | d_loss: 1.0250 | g_loss: 0.2096\n",
      "Epoch [    3/    5] | d_loss: 1.0573 | g_loss: 0.2850\n",
      "Epoch [    3/    5] | d_loss: 0.9573 | g_loss: 0.2951\n",
      "Epoch [    3/    5] | d_loss: 0.9922 | g_loss: 0.2730\n",
      "Epoch [    3/    5] | d_loss: 1.1197 | g_loss: 0.2939\n",
      "Epoch [    3/    5] | d_loss: 0.9732 | g_loss: 0.2464\n",
      "Epoch [    4/    5] | d_loss: 0.9574 | g_loss: 0.2712\n",
      "Epoch [    4/    5] | d_loss: 0.7754 | g_loss: 0.2317\n",
      "Epoch [    4/    5] | d_loss: 0.8169 | g_loss: 0.2449\n",
      "Epoch [    4/    5] | d_loss: 1.1503 | g_loss: 0.3246\n",
      "Epoch [    4/    5] | d_loss: 1.0579 | g_loss: 0.2081\n",
      "Epoch [    4/    5] | d_loss: 0.8664 | g_loss: 0.3013\n",
      "Epoch [    4/    5] | d_loss: 0.7903 | g_loss: 0.2156\n",
      "Epoch [    4/    5] | d_loss: 1.1453 | g_loss: 0.3112\n",
      "Epoch [    4/    5] | d_loss: 0.9211 | g_loss: 0.2444\n",
      "Epoch [    4/    5] | d_loss: 0.7709 | g_loss: 0.2762\n",
      "Epoch [    4/    5] | d_loss: 1.0029 | g_loss: 0.2917\n",
      "Epoch [    4/    5] | d_loss: 1.1971 | g_loss: 0.2496\n",
      "Epoch [    4/    5] | d_loss: 1.0170 | g_loss: 0.2602\n",
      "Epoch [    4/    5] | d_loss: 1.0106 | g_loss: 0.3825\n",
      "Epoch [    4/    5] | d_loss: 0.9742 | g_loss: 0.3188\n",
      "Epoch [    4/    5] | d_loss: 0.9004 | g_loss: 0.1909\n",
      "Epoch [    4/    5] | d_loss: 0.6500 | g_loss: 0.1842\n",
      "Epoch [    4/    5] | d_loss: 1.1082 | g_loss: 0.1781\n",
      "Epoch [    4/    5] | d_loss: 1.0021 | g_loss: 0.3765\n",
      "Epoch [    4/    5] | d_loss: 0.8362 | g_loss: 0.1994\n",
      "Epoch [    4/    5] | d_loss: 1.0315 | g_loss: 0.1798\n",
      "Epoch [    4/    5] | d_loss: 0.8602 | g_loss: 0.2867\n",
      "Epoch [    4/    5] | d_loss: 0.8874 | g_loss: 0.3681\n",
      "Epoch [    4/    5] | d_loss: 0.9542 | g_loss: 0.3019\n",
      "Epoch [    4/    5] | d_loss: 0.7674 | g_loss: 0.3793\n",
      "Epoch [    4/    5] | d_loss: 0.9582 | g_loss: 0.4732\n",
      "Epoch [    4/    5] | d_loss: 1.2141 | g_loss: 0.1632\n",
      "Epoch [    4/    5] | d_loss: 0.9694 | g_loss: 0.2949\n",
      "Epoch [    4/    5] | d_loss: 0.7250 | g_loss: 0.3450\n",
      "Epoch [    4/    5] | d_loss: 1.0302 | g_loss: 0.3476\n",
      "Epoch [    4/    5] | d_loss: 0.8572 | g_loss: 0.2337\n",
      "Epoch [    4/    5] | d_loss: 0.7866 | g_loss: 0.3914\n",
      "Epoch [    4/    5] | d_loss: 1.0426 | g_loss: 0.2667\n",
      "Epoch [    4/    5] | d_loss: 0.8910 | g_loss: 0.2182\n",
      "Epoch [    4/    5] | d_loss: 0.9075 | g_loss: 0.2019\n",
      "Epoch [    4/    5] | d_loss: 0.7394 | g_loss: 0.2726\n",
      "Epoch [    4/    5] | d_loss: 0.9368 | g_loss: 0.3502\n",
      "Epoch [    4/    5] | d_loss: 1.0393 | g_loss: 0.3006\n",
      "Epoch [    4/    5] | d_loss: 0.8413 | g_loss: 0.3596\n",
      "Epoch [    4/    5] | d_loss: 1.1213 | g_loss: 0.1419\n",
      "Epoch [    4/    5] | d_loss: 0.8655 | g_loss: 0.2603\n",
      "Epoch [    4/    5] | d_loss: 0.9878 | g_loss: 0.1444\n",
      "Epoch [    4/    5] | d_loss: 0.8150 | g_loss: 0.2208\n",
      "Epoch [    4/    5] | d_loss: 1.0329 | g_loss: 0.2067\n",
      "Epoch [    4/    5] | d_loss: 0.8935 | g_loss: 0.2846\n",
      "Epoch [    4/    5] | d_loss: 0.8887 | g_loss: 0.2420\n",
      "Epoch [    4/    5] | d_loss: 1.0076 | g_loss: 0.2317\n",
      "Epoch [    4/    5] | d_loss: 1.0201 | g_loss: 0.1704\n",
      "Epoch [    4/    5] | d_loss: 0.9557 | g_loss: 0.2444\n",
      "Epoch [    4/    5] | d_loss: 1.0801 | g_loss: 0.2792\n",
      "Epoch [    4/    5] | d_loss: 1.0392 | g_loss: 0.2816\n",
      "Epoch [    4/    5] | d_loss: 0.9937 | g_loss: 0.3792\n",
      "Epoch [    4/    5] | d_loss: 0.9373 | g_loss: 0.2567\n",
      "Epoch [    4/    5] | d_loss: 0.8709 | g_loss: 0.3702\n",
      "Epoch [    4/    5] | d_loss: 0.9529 | g_loss: 0.2858\n",
      "Epoch [    4/    5] | d_loss: 0.9109 | g_loss: 0.2990\n",
      "Epoch [    4/    5] | d_loss: 1.2244 | g_loss: 0.2456\n",
      "Epoch [    5/    5] | d_loss: 0.9181 | g_loss: 0.1861\n",
      "Epoch [    5/    5] | d_loss: 1.0729 | g_loss: 0.2318\n",
      "Epoch [    5/    5] | d_loss: 0.9181 | g_loss: 0.2087\n",
      "Epoch [    5/    5] | d_loss: 0.9778 | g_loss: 0.2504\n",
      "Epoch [    5/    5] | d_loss: 1.0184 | g_loss: 0.2829\n",
      "Epoch [    5/    5] | d_loss: 0.7554 | g_loss: 0.2440\n",
      "Epoch [    5/    5] | d_loss: 0.7014 | g_loss: 0.2452\n",
      "Epoch [    5/    5] | d_loss: 0.9812 | g_loss: 0.2377\n",
      "Epoch [    5/    5] | d_loss: 1.3501 | g_loss: 0.3617\n",
      "Epoch [    5/    5] | d_loss: 0.9086 | g_loss: 0.2573\n",
      "Epoch [    5/    5] | d_loss: 1.1611 | g_loss: 0.2031\n",
      "Epoch [    5/    5] | d_loss: 0.8641 | g_loss: 0.2509\n",
      "Epoch [    5/    5] | d_loss: 0.8398 | g_loss: 0.3183\n",
      "Epoch [    5/    5] | d_loss: 0.7562 | g_loss: 0.3184\n",
      "Epoch [    5/    5] | d_loss: 0.9317 | g_loss: 0.3492\n",
      "Epoch [    5/    5] | d_loss: 1.1116 | g_loss: 0.3091\n",
      "Epoch [    5/    5] | d_loss: 0.7074 | g_loss: 0.2235\n",
      "Epoch [    5/    5] | d_loss: 1.1158 | g_loss: 0.2611\n",
      "Epoch [    5/    5] | d_loss: 0.8569 | g_loss: 0.2875\n",
      "Epoch [    5/    5] | d_loss: 0.8533 | g_loss: 0.3558\n",
      "Epoch [    5/    5] | d_loss: 1.1124 | g_loss: 0.2889\n",
      "Epoch [    5/    5] | d_loss: 0.7737 | g_loss: 0.2482\n",
      "Epoch [    5/    5] | d_loss: 0.9773 | g_loss: 0.1915\n",
      "Epoch [    5/    5] | d_loss: 0.8858 | g_loss: 0.2576\n",
      "Epoch [    5/    5] | d_loss: 0.7979 | g_loss: 0.2932\n",
      "Epoch [    5/    5] | d_loss: 1.1699 | g_loss: 0.3219\n",
      "Epoch [    5/    5] | d_loss: 0.7579 | g_loss: 0.3152\n",
      "Epoch [    5/    5] | d_loss: 0.9926 | g_loss: 0.4008\n",
      "Epoch [    5/    5] | d_loss: 1.0460 | g_loss: 0.3176\n",
      "Epoch [    5/    5] | d_loss: 0.7447 | g_loss: 0.2162\n",
      "Epoch [    5/    5] | d_loss: 0.8229 | g_loss: 0.1874\n",
      "Epoch [    5/    5] | d_loss: 0.7832 | g_loss: 0.2493\n",
      "Epoch [    5/    5] | d_loss: 0.9323 | g_loss: 0.3611\n",
      "Epoch [    5/    5] | d_loss: 1.1314 | g_loss: 0.2608\n",
      "Epoch [    5/    5] | d_loss: 1.1236 | g_loss: 0.3374\n",
      "Epoch [    5/    5] | d_loss: 0.9188 | g_loss: 0.2407\n",
      "Epoch [    5/    5] | d_loss: 1.0266 | g_loss: 0.2083\n",
      "Epoch [    5/    5] | d_loss: 0.9000 | g_loss: 0.3230\n",
      "Epoch [    5/    5] | d_loss: 1.0844 | g_loss: 0.4125\n",
      "Epoch [    5/    5] | d_loss: 0.9390 | g_loss: 0.3621\n",
      "Epoch [    5/    5] | d_loss: 1.0277 | g_loss: 0.3474\n",
      "Epoch [    5/    5] | d_loss: 0.8488 | g_loss: 0.3682\n",
      "Epoch [    5/    5] | d_loss: 0.9875 | g_loss: 0.1772\n",
      "Epoch [    5/    5] | d_loss: 0.7937 | g_loss: 0.3288\n",
      "Epoch [    5/    5] | d_loss: 0.9938 | g_loss: 0.2531\n",
      "Epoch [    5/    5] | d_loss: 0.8365 | g_loss: 0.2607\n",
      "Epoch [    5/    5] | d_loss: 0.9274 | g_loss: 0.2384\n",
      "Epoch [    5/    5] | d_loss: 1.1725 | g_loss: 0.1814\n",
      "Epoch [    5/    5] | d_loss: 0.9412 | g_loss: 0.2435\n",
      "Epoch [    5/    5] | d_loss: 0.8545 | g_loss: 0.2884\n",
      "Epoch [    5/    5] | d_loss: 0.9939 | g_loss: 0.2780\n",
      "Epoch [    5/    5] | d_loss: 0.7855 | g_loss: 0.2115\n",
      "Epoch [    5/    5] | d_loss: 0.8312 | g_loss: 0.3457\n",
      "Epoch [    5/    5] | d_loss: 0.8448 | g_loss: 0.4264\n",
      "Epoch [    5/    5] | d_loss: 0.7707 | g_loss: 0.1903\n",
      "Epoch [    5/    5] | d_loss: 1.1251 | g_loss: 0.2860\n",
      "Epoch [    5/    5] | d_loss: 0.7382 | g_loss: 0.2877\n"
     ]
    }
   ],
   "source": [
    "# set number of epochs \n",
    "n_epochs = 5\n",
    "\n",
    "\n",
    "\"\"\"\n",
    "DON'T MODIFY ANYTHING IN THIS CELL\n",
    "\"\"\"\n",
    "# call training function\n",
    "losses = train(D, G, n_epochs=n_epochs)"
   ]
  },
  {
   "cell_type": "markdown",
   "metadata": {
    "collapsed": true
   },
   "source": [
    "## Training loss\n",
    "\n",
    "Plot the training losses for the generator and discriminator, recorded after each epoch."
   ]
  },
  {
   "cell_type": "code",
   "execution_count": 61,
   "metadata": {},
   "outputs": [
    {
     "data": {
      "text/plain": [
       "<matplotlib.legend.Legend at 0x7f9884fd7d68>"
      ]
     },
     "execution_count": 61,
     "metadata": {},
     "output_type": "execute_result"
    },
    {
     "data": {
      "image/png": "[encoded data removed]",
      "text/plain": [
       "<matplotlib.figure.Figure at 0x7f9884fb4550>"
      ]
     },
     "metadata": {
      "needs_background": "light"
     },
     "output_type": "display_data"
    }
   ],
   "source": [
    "fig, ax = plt.subplots()\n",
    "losses = np.array(losses)\n",
    "plt.plot(losses.T[0], label='Discriminator', alpha=0.5)\n",
    "plt.plot(losses.T[1], label='Generator', alpha=0.5)\n",
    "plt.title(\"Training Losses\")\n",
    "plt.legend()"
   ]
  },
  {
   "cell_type": "markdown",
   "metadata": {
    "collapsed": true
   },
   "source": [
    "## Generator samples from training\n",
    "\n",
    "View samples of images from the generator, and answer a question about the strengths and weaknesses of your trained models."
   ]
  },
  {
   "cell_type": "code",
   "execution_count": 62,
   "metadata": {},
   "outputs": [],
   "source": [
    "# helper function for viewing a list of passed in sample images\n",
    "def view_samples(epoch, samples):\n",
    "    fig, axes = plt.subplots(figsize=(16,4), nrows=2, ncols=8, sharey=True, sharex=True)\n",
    "    for ax, img in zip(axes.flatten(), samples[epoch]):\n",
    "        img = img.detach().cpu().numpy()\n",
    "        img = np.transpose(img, (1, 2, 0))\n",
    "        img = ((img + 1)*255 / (2)).astype(np.uint8)\n",
    "        ax.xaxis.set_visible(False)\n",
    "        ax.yaxis.set_visible(False)\n",
    "        im = ax.imshow(img.reshape((32,32,3)))"
   ]
  },
  {
   "cell_type": "code",
   "execution_count": 63,
   "metadata": {},
   "outputs": [],
   "source": [
    "# Load samples from generator, taken while training\n",
    "with open('train_samples.pkl', 'rb') as f:\n",
    "    samples = pkl.load(f)"
   ]
  },
  {
   "cell_type": "code",
   "execution_count": 64,
   "metadata": {},
   "outputs": [
    {
     "data": {
      "image/png": "[encoded data removed]",
      "text/plain": [
       "<matplotlib.figure.Figure at 0x7f98842adcf8>"
      ]
     },
     "metadata": {
      "needs_background": "light"
     },
     "output_type": "display_data"
    }
   ],
   "source": [
    "_ = view_samples(-1, samples)"
   ]
  },
  {
   "cell_type": "markdown",
   "metadata": {},
   "source": [
    "### Question: What do you notice about your generated samples and how might you improve this model?\n",
    "When you answer this question, consider the following factors:\n",
    "* The dataset is biased; it is made of \"celebrity\" faces that are mostly white\n",
    "* Model size; larger models have the opportunity to learn more features in a data feature space\n",
    "* Optimization strategy; optimizers and number of epochs affect your final result\n"
   ]
  },
  {
   "cell_type": "markdown",
   "metadata": {},
   "source": [
    "**Answer:** (Write your answer in this cell)\n",
    "\n",
    "We can observe that the model is produces fairly low-resolution images. And to resolve this problem, we can use :  \n",
    "\n",
    "* Residual Block Class in order to avoid the vanishing & exploding gradients and to reach the convergence,\n",
    "* Coarse-to-fine generator means we decompose the generator into two sub-networks: G1 and G2. We term G1 as the global generator network and G2 as the local enhancer network\n",
    "* Larger images (say 256x256) at first, to take advantage of high-res data"
   ]
  },
  {
   "cell_type": "markdown",
   "metadata": {},
   "source": [
    "### Submitting This Project\n",
    "When submitting this project, make sure to run all the cells before saving the notebook. Save the notebook file as \"dlnd_face_generation.ipynb\" and save it as a HTML file under \"File\" -> \"Download as\". Include the \"problem_unittests.py\" files in your submission."
   ]
  }
 ],
 "metadata": {
  "kernelspec": {
   "display_name": "Python 3",
   "language": "python",
   "name": "python3"
  },
  "language_info": {
   "codemirror_mode": {
    "name": "ipython",
    "version": 3
   },
   "file_extension": ".py",
   "mimetype": "text/x-python",
   "name": "python",
   "nbconvert_exporter": "python",
   "pygments_lexer": "ipython3",
   "version": "3.6.3"
  }
 },
 "nbformat": 4,
 "nbformat_minor": 1
}
